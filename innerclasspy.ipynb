{
 "cells": [
  {
   "cell_type": "code",
   "execution_count": null,
   "id": "62e54bd3",
   "metadata": {},
   "outputs": [
    {
     "name": "stdout",
     "output_type": "stream",
     "text": [
      "harshi 8 HP i3 8GB\n",
      "HP i3 8\n",
      "rani 5 HP i3 8GB\n",
      "HP i3 8\n"
     ]
    }
   ],
   "source": [
    "class Student:\n",
    "    def __init__(self,name,rollno):\n",
    "        self.name=name\n",
    "        self.rollno=rollno\n",
    "        self.lap=Laptop()\n",
    "        \n",
    "    def show(self):\n",
    "        print(self.name,self.rollno,self.lap)\n",
    "        self.lap.show()\n",
    "        \n",
    "class Laptop:\n",
    "    def __init__(self):\n",
    "        self.brand=\"HP\"\n",
    "        self.cpu=\"i3\"\n",
    "        self.ram=8\n",
    "    def show(self):\n",
    "        print(self.brand,self.cpu,self.ram)\n",
    "    def __str__(self):  \n",
    "        return f\"{self.brand} {self.cpu} {self.ram}GB\"\n",
    "\n",
    "\n",
    "s1=Student(\"harshi\",8)        \n",
    "s2=Student(\"rani\",5)\n",
    "s1.show()\n",
    "s2.show()"
   ]
  },
  {
   "cell_type": "code",
   "execution_count": 18,
   "id": "7f43b75a",
   "metadata": {},
   "outputs": [
    {
     "name": "stdout",
     "output_type": "stream",
     "text": [
      "Kashmir 48\n",
      "AK45 heavy high\n",
      "Delhi 41\n",
      "AK45 heavy high\n"
     ]
    }
   ],
   "source": [
    "class army:\n",
    "    def __init__(self,camps,soilders):\n",
    "        self.camps=camps\n",
    "        self.soilders=soilders\n",
    "        self.gun=gun()\n",
    "\n",
    "    def show(self):\n",
    "        print(self.camps,self.soilders)\n",
    "        self.gun.show()\n",
    "\n",
    "class gun:\n",
    "    def __init__(self):\n",
    "        self.type=\"AK45\"\n",
    "        self.load=\"heavy\"\n",
    "        self.power=\"high\"\n",
    "    def show(self):\n",
    "        print(self.type,self.load,self.power)\n",
    "    def __str__(self):\n",
    "        return f\"{self.type}{self.load}{self.power}\"\n",
    "a1=army(\"Kashmir\",48)\n",
    "a2=army(\"Delhi\",41)\n",
    "a1.show()\n",
    "a2.show()\n"
   ]
  },
  {
   "cell_type": "code",
   "execution_count": null,
   "id": "45a40914",
   "metadata": {},
   "outputs": [],
   "source": []
  }
 ],
 "metadata": {
  "kernelspec": {
   "display_name": "Python 3",
   "language": "python",
   "name": "python3"
  },
  "language_info": {
   "codemirror_mode": {
    "name": "ipython",
    "version": 3
   },
   "file_extension": ".py",
   "mimetype": "text/x-python",
   "name": "python",
   "nbconvert_exporter": "python",
   "pygments_lexer": "ipython3",
   "version": "3.8.4"
  }
 },
 "nbformat": 4,
 "nbformat_minor": 5
}
